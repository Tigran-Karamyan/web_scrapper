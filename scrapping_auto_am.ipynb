{
 "cells": [
  {
   "cell_type": "code",
   "execution_count": 1,
   "id": "1ca4066c",
   "metadata": {},
   "outputs": [],
   "source": [
    "from selenium import webdriver\n",
    "from bs4 import BeautifulSoup\n",
    "import pandas as pd"
   ]
  },
  {
   "cell_type": "code",
   "execution_count": 2,
   "id": "554b0d4b",
   "metadata": {},
   "outputs": [],
   "source": [
    "import re"
   ]
  },
  {
   "cell_type": "code",
   "execution_count": 3,
   "id": "e9fa777c",
   "metadata": {},
   "outputs": [],
   "source": [
    "PATH = \"chromedriver.exe\"\n",
    "driver = webdriver.Chrome(PATH)"
   ]
  },
  {
   "cell_type": "code",
   "execution_count": 4,
   "id": "37df2da5",
   "metadata": {},
   "outputs": [],
   "source": [
    "driver.get(\"https://auto.am/search/passenger-cars?q={%22category%22:%221%22,%22page%22:%221%22,%22sort%22:%22latest%22,%22layout%22:%22list%22,%22user%22:{%22dealer%22:%220%22,%22id%22:%22%22},%22make%22:[%22386%22],%22year%22:{%22gt%22:%221911%22,%22lt%22:%222022%22},%22usdprice%22:{%22gt%22:%220%22,%22lt%22:%22100000000%22},%22mileage%22:{%22gt%22:%2210%22,%22lt%22:%221000000%22}}\")"
   ]
  },
  {
   "cell_type": "code",
   "execution_count": 5,
   "id": "2e417f95",
   "metadata": {},
   "outputs": [],
   "source": [
    "cars = list() #List to store name of the cars\n",
    "prices = list() #List to store name of the prices\n",
    "content = driver.page_source\n",
    "soup = BeautifulSoup(content)\n",
    "for a in soup.findAll('a'):\n",
    "    car = a.find('span', attrs={'class':'card-title bold'})\n",
    "    price = a.find('div', attrs={'class':'ad-mob-price bold grey-text'})\n",
    "    if price is not None:\n",
    "        cars.append(car.text)\n",
    "        prices.append(price.text)"
   ]
  },
  {
   "cell_type": "code",
   "execution_count": 6,
   "id": "152636dc",
   "metadata": {},
   "outputs": [],
   "source": [
    "cars_list = [car.split() for car in cars]"
   ]
  },
  {
   "cell_type": "code",
   "execution_count": 7,
   "id": "7ae0c1fb",
   "metadata": {
    "scrolled": true
   },
   "outputs": [],
   "source": [
    "df = pd.DataFrame(cars_list, columns=['Year', 'Mark', 'Model', 'Series', 'Ext'])"
   ]
  },
  {
   "cell_type": "code",
   "execution_count": 8,
   "id": "6a5421a3",
   "metadata": {},
   "outputs": [],
   "source": [
    "full_series = [series + \" \" + ext \n",
    "               if series is not None \n",
    "               and ext is not None \n",
    "               else series \n",
    "               for series, ext in zip(df.Series, df.Ext)]\n",
    "    \n",
    "df['Series'] = full_series"
   ]
  },
  {
   "cell_type": "code",
   "execution_count": 9,
   "id": "59bb993d",
   "metadata": {},
   "outputs": [],
   "source": [
    "full_model = [model + \" \" + series \n",
    "               if model is not None \n",
    "               and series is not None \n",
    "               else model \n",
    "               for model, series in zip(df.Model, df.Series)]\n",
    "    \n",
    "df['Model'] = full_model"
   ]
  },
  {
   "cell_type": "code",
   "execution_count": 10,
   "id": "34426027",
   "metadata": {},
   "outputs": [],
   "source": [
    "df.drop(['Series', 'Ext'], axis=1, inplace = True)"
   ]
  },
  {
   "cell_type": "code",
   "execution_count": 11,
   "id": "04e3c990",
   "metadata": {},
   "outputs": [],
   "source": [
    "prices = [price.replace('$','') for price in prices]"
   ]
  },
  {
   "cell_type": "code",
   "execution_count": 12,
   "id": "ebed583d",
   "metadata": {},
   "outputs": [],
   "source": [
    "prices = [re.sub('\\s', '', price) for price in prices]"
   ]
  },
  {
   "cell_type": "code",
   "execution_count": 13,
   "id": "b9e58c2b",
   "metadata": {},
   "outputs": [],
   "source": [
    "prices = [int(price) if price != 'Պայմ.' else 0 for price in prices]"
   ]
  },
  {
   "cell_type": "code",
   "execution_count": 14,
   "id": "deea44a8",
   "metadata": {},
   "outputs": [],
   "source": [
    "df['Prices'] = prices"
   ]
  },
  {
   "cell_type": "code",
   "execution_count": 16,
   "id": "dc72c52f",
   "metadata": {},
   "outputs": [],
   "source": [
    "df.to_csv(\"auto.am\")"
   ]
  },
  {
   "cell_type": "code",
   "execution_count": null,
   "id": "43ff3a15",
   "metadata": {},
   "outputs": [],
   "source": []
  }
 ],
 "metadata": {
  "kernelspec": {
   "display_name": "Python 3",
   "language": "python",
   "name": "python3"
  },
  "language_info": {
   "codemirror_mode": {
    "name": "ipython",
    "version": 3
   },
   "file_extension": ".py",
   "mimetype": "text/x-python",
   "name": "python",
   "nbconvert_exporter": "python",
   "pygments_lexer": "ipython3",
   "version": "3.7.10"
  }
 },
 "nbformat": 4,
 "nbformat_minor": 5
}
